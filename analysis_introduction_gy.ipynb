{
 "cells": [
  {
   "cell_type": "markdown",
   "id": "b3948604",
   "metadata": {},
   "source": [
    "# Context"
   ]
  },
  {
   "cell_type": "markdown",
   "id": "580984ec",
   "metadata": {},
   "source": [
    "# Where are we?"
   ]
  },
  {
   "cell_type": "markdown",
   "id": "ad8de526",
   "metadata": {},
   "source": [
    "- Gamma ray astronomy\n",
    "    - Very high energy domain (100 GeV < E < 100 TeV)\n",
    "    - Imaging Atmospheric Cherenkov Telescopes\n",
    "    - Water Cherenkov Detectors"
   ]
  },
  {
   "cell_type": "markdown",
   "id": "f95b94fb",
   "metadata": {},
   "source": [
    "![CTA spectrum](images/Spectrum_CTA_FINAL.png)"
   ]
  },
  {
   "cell_type": "markdown",
   "id": "fbd68bab",
   "metadata": {},
   "source": [
    "# Introduction"
   ]
  },
  {
   "cell_type": "markdown",
   "id": "c6021e0f",
   "metadata": {},
   "source": [
    "## What is Gammapy?\n",
    "\n",
    "Gammapy is an open-source Python package for gamma-ray astronomy. It is used as core library for the Science Analysis tools of the Cherenkov Telescope Array (CTA). It is also used in other Imaging Atmospheric Cherenkov Telescope facilities as MAGIC, VERITAS and HESS and Water Cherenkov Detectors as HAWC."
   ]
  },
  {
   "cell_type": "markdown",
   "id": "00cf4e23",
   "metadata": {},
   "source": [
    "## The dataset of the hands-on sessions\n",
    "\n",
    "In the following jupyter notebooks we will analyse public data of the standard source at VHE gamma rays, the Crab Nebula. The data used is from the HESS Collaboration.\n",
    "\n",
    "Each observation consists of ~20 min of data taking. The data that we will use is already processed and ready for scientific analysis."
   ]
  },
  {
   "cell_type": "markdown",
   "id": "60f49599",
   "metadata": {},
   "source": [
    "## Information in each observation\n",
    "\n",
    "Video about how gamma-rays are recorded: https://www.youtube.com/watch?v=5gRHFQP_SjU\n",
    "\n",
    "### Events table\n",
    "\n",
    "Table with gamma-like events. It contains the following information:\n",
    "- Event position\n",
    "- Trigger time\n",
    "- Reconstructed energy\n",
    "\n",
    "\n",
    "### Instrument Response Functions\n",
    "\"The instrument response functions (IRFs) provide a mathematical description that links the reconstructed photon arrival direction 𝑝′, energy 𝐸′ and trigger time 𝑡′ of an event to the true incident direction 𝑝, energy 𝐸 and time 𝑡 of a photon.\"\n",
    "\n",
    "![IRFs](images/irfs.jpg)\n",
    "\n",
    "\n",
    "The IRFs are formed by:\n",
    "- Effective area\n",
    "- Energy dispersion matrix\n",
    "- Point spread function"
   ]
  }
 ],
 "metadata": {
  "kernelspec": {
   "display_name": "Python 3 (ipykernel)",
   "language": "python",
   "name": "python3"
  },
  "language_info": {
   "codemirror_mode": {
    "name": "ipython",
    "version": 3
   },
   "file_extension": ".py",
   "mimetype": "text/x-python",
   "name": "python",
   "nbconvert_exporter": "python",
   "pygments_lexer": "ipython3",
   "version": "3.9.16"
  }
 },
 "nbformat": 4,
 "nbformat_minor": 5
}
