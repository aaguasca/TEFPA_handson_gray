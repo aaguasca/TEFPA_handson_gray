{
 "cells": [
  {
   "cell_type": "code",
   "execution_count": 1,
   "metadata": {},
   "outputs": [],
   "source": [
    "%matplotlib inline"
   ]
  },
  {
   "cell_type": "markdown",
   "metadata": {},
   "source": [
    "\n",
    "# Spectral analysis with the High Level Interface\n",
    "\n",
    "Introduction to 1D analysis using the Gammapy high level interface adapted\n",
    "for the hands-on session.\n",
    "\n",
    "## Prerequisites\n",
    "\n",
    "-  Understanding the gammapy data workflow, in particular what are DL3\n",
    "   events and instrument response functions (IRF).\n",
    "\n",
    "## Context\n",
    "\n",
    "This notebook is an introduction to gammapy analysis using the high\n",
    "level interface.\n",
    "\n",
    "Gammapy analysis consists in two main steps.\n",
    "\n",
    "The first one is data reduction: user selected observations are reduced\n",
    "to a geometry defined by the user. It can be 1D (spectrum from a given\n",
    "extraction region) or 3D (with a sky projection and an energy axis). The\n",
    "resulting reduced data and instrument response functions (IRF) are\n",
    "called datasets in Gammapy.\n",
    "\n",
    "The second step consists in setting a physical model on the datasets and\n",
    "fitting it to obtain relevant physical information.\n",
    "\n",
    "**Objective: Create a 1D dataset of the Crab using the H.E.S.S. DL3 data\n",
    "release 1 and perform a simple model fitting of the Crab nebula.**\n",
    "\n",
    "\n",
    "![gpy_data_flow](images/data-flow-gammapy.png)\n",
    "\n",
    "## Proposed approach\n",
    "\n",
    "This notebook uses the high level `~gammapy.analysis.Analysis` class to orchestrate data\n",
    "reduction and run the data fits. In its current state, `Analysis`\n",
    "supports the standard analysis cases of joint or stacked 3D and 1D\n",
    "analyses. It is instantiated with an `~gammapy.analysis.AnalysisConfig` object that\n",
    "gives access to analysis parameters either directly or via a YAML config\n",
    "file.\n",
    "\n",
    "To see what is happening under-the-hood and to get an idea of the\n",
    "internal API, a second notebook performs the same analysis without using\n",
    "the `~gammapy.analysis.Analysis` class.\n",
    "\n",
    "In summary, we have to:\n",
    "\n",
    "-  Create an `~gammapy.analysis.AnalysisConfig` object and the\n",
    "   analysis configuration:\n",
    "\n",
    "   -  Define what observations to use\n",
    "   -  Define the geometry of the dataset (data and IRFs)\n",
    "   -  Define the model we want to fit on the dataset.\n",
    "\n",
    "-  Instantiate a `~gammapy.analysis.Analysis` from this configuration\n",
    "   and run the different analysis steps\n",
    "\n",
    "   -  Observation selection\n",
    "   -  Data reduction\n",
    "   -  Model fitting\n",
    "   -  Estimating flux points\n"
   ]
  },
  {
   "cell_type": "code",
   "execution_count": 2,
   "metadata": {},
   "outputs": [],
   "source": [
    "from pathlib import Path\n",
    "\n",
    "# %matplotlib inline\n",
    "import matplotlib.pyplot as plt"
   ]
  },
  {
   "cell_type": "markdown",
   "metadata": {},
   "source": [
    "## Setup\n",
    "\n",
    "\n"
   ]
  },
  {
   "cell_type": "code",
   "execution_count": 3,
   "metadata": {},
   "outputs": [],
   "source": [
    "from IPython.display import display\n",
    "from gammapy.analysis import Analysis, AnalysisConfig\n",
    "from gammapy.modeling.models import Models"
   ]
  },
  {
   "cell_type": "markdown",
   "metadata": {},
   "source": [
    "## Check setup\n",
    "\n"
   ]
  },
  {
   "cell_type": "code",
   "execution_count": 4,
   "metadata": {},
   "outputs": [],
   "source": [
    "from gammapy.utils.check import check_tutorials_setup\n",
    "\n",
    "# check_tutorials_setup()"
   ]
  },
  {
   "cell_type": "markdown",
   "metadata": {},
   "source": [
    "## Analysis configuration\n",
    "\n",
    "For configuration of the analysis we use the\n",
    "[YAML](https://en.wikipedia.org/wiki/YAML)_ data format. YAML is a\n",
    "machine readable serialisation format, that is also friendly for humans\n",
    "to read. In this tutorial we will write the configuration file just\n",
    "using Python strings, but of course the file can be created and modified\n",
    "with any text editor of your choice.\n",
    "\n",
    "Here is what the configuration for our analysis looks like:\n",
    "\n",
    "\n"
   ]
  },
  {
   "cell_type": "code",
   "execution_count": 5,
   "metadata": {},
   "outputs": [
    {
     "name": "stdout",
     "output_type": "stream",
     "text": [
      "AnalysisConfig\n",
      "\n",
      "    general:\n",
      "        log: {level: info, filename: null, filemode: null, format: null, datefmt: null}\n",
      "        outdir: .\n",
      "        n_jobs: 1\n",
      "        datasets_file: null\n",
      "        models_file: null\n",
      "    observations:\n",
      "        datastore: hess-dl3-dr1\n",
      "        obs_ids: []\n",
      "        obs_file: null\n",
      "        obs_cone: {frame: icrs, lon: 83.633 deg, lat: 22.014 deg, radius: 5.0 deg}\n",
      "        obs_time: {start: null, stop: null}\n",
      "        required_irf: [aeff, edisp, psf, bkg]\n",
      "    datasets:\n",
      "        type: 1d\n",
      "        stack: true\n",
      "        geom:\n",
      "            wcs:\n",
      "                skydir: {frame: null, lon: null, lat: null}\n",
      "                binsize: 0.02 deg\n",
      "                width: {width: 5.0 deg, height: 5.0 deg}\n",
      "                binsize_irf: 0.2 deg\n",
      "            selection: {offset_max: 2.5 deg}\n",
      "            axes:\n",
      "                energy: {min: 0.5 TeV, max: 30.0 TeV, nbins: 20}\n",
      "                energy_true: {min: 0.1 TeV, max: 50.0 TeV, nbins: 40}\n",
      "        map_selection: [counts, exposure, background, psf, edisp]\n",
      "        background:\n",
      "            method: reflected\n",
      "            exclusion: null\n",
      "            parameters: {}\n",
      "        safe_mask:\n",
      "            methods: [aeff-default]\n",
      "            parameters: {}\n",
      "        on_region: {frame: icrs, lon: 83.633 deg, lat: 22.014 deg, radius: 0.11 deg}\n",
      "        containment_correction: true\n",
      "    fit:\n",
      "        fit_range: {min: 1.0 TeV, max: 20.0 TeV}\n",
      "    flux_points:\n",
      "        energy: {min: 1.0 TeV, max: 20.0 TeV, nbins: 8}\n",
      "        source: crab\n",
      "        parameters: {selection_optional: all}\n",
      "    excess_map:\n",
      "        correlation_radius: 0.1 deg\n",
      "        parameters: {}\n",
      "        energy_edges: {min: null, max: null, nbins: null}\n",
      "    light_curve:\n",
      "        time_intervals: {start: null, stop: null}\n",
      "        energy_edges: {min: null, max: null, nbins: null}\n",
      "        source: source\n",
      "        parameters: {selection_optional: all}\n",
      "    \n"
     ]
    }
   ],
   "source": [
    "yaml_str = \"\"\"\n",
    "observations:\n",
    "    datastore: hess-dl3-dr1\n",
    "    obs_cone: {frame: icrs, lon: 83.633 deg, lat: 22.014 deg, radius: 5 deg}\n",
    "\n",
    "datasets:\n",
    "    type: 1d\n",
    "    stack: true\n",
    "    geom:\n",
    "        axes:\n",
    "            energy: {min: 0.5 TeV, max: 30 TeV, nbins: 20}\n",
    "            energy_true: {min: 0.1 TeV, max: 50 TeV, nbins: 40}\n",
    "    on_region: {frame: icrs, lon: 83.633 deg, lat: 22.014 deg, radius: 0.11 deg}\n",
    "    containment_correction: true\n",
    "    background:\n",
    "        method: reflected\n",
    "fit:\n",
    "    fit_range: {min: 1 TeV, max: 20 TeV}\n",
    "\n",
    "flux_points:\n",
    "    energy: {min: 1 TeV, max: 20 TeV, nbins: 8}\n",
    "    source: 'crab'\n",
    "\"\"\"\n",
    "\n",
    "config = AnalysisConfig.from_yaml(yaml_str)\n",
    "print(config)"
   ]
  },
  {
   "cell_type": "markdown",
   "metadata": {},
   "source": [
    "### Using data stored into your computer\n",
    "\n",
    "\n"
   ]
  },
  {
   "cell_type": "markdown",
   "metadata": {},
   "source": [
    "Here, we want to use Crab runs from the H.E.S.S. DL3-DR1. We have\n",
    "defined the datastore and a cone search of observations pointing with 5\n",
    "degrees of the Crab nebula. Parameters can be set directly or as a\n",
    "python dict."
   ]
  },
  {
   "cell_type": "markdown",
   "metadata": {},
   "source": [
    "### Setting the exclusion mask\n",
    "\n",
    "\n"
   ]
  },
  {
   "cell_type": "markdown",
   "metadata": {},
   "source": [
    "In order to properly adjust the background normalisation on regions\n",
    "without gamma-ray signal, one needs to define an exclusion mask for the\n",
    "background normalisation. We want to avoid any contamination of signal\n",
    "in the OFF regions.\n",
    "\n",
    "The background is estimated using as many OFF regions as possible in a ring with a radius equal to the\n",
    "offset between the pointing of the telescope and the source of interest. For example,\n",
    "\n",
    "![off_regions](images/off_regions.png)\n",
    "\n",
    "\n",
    "For this tutorial, we use the following one\n",
    "`$GAMMAPY_DATA/joint-crab/exclusion/exclusion_mask_crab.fits.gz`\n"
   ]
  },
  {
   "cell_type": "code",
   "execution_count": 6,
   "metadata": {},
   "outputs": [],
   "source": [
    "config.datasets.background.exclusion = (\n",
    "    \"joint-crab/exclusion/exclusion_mask_crab.fits.gz\"\n",
    ")"
   ]
  },
  {
   "cell_type": "markdown",
   "metadata": {},
   "source": [
    "This is the exclusion mask defined in the exclusion_mask_crab.fits.gz file"
   ]
  },
  {
   "cell_type": "code",
   "execution_count": 7,
   "metadata": {},
   "outputs": [
    {
     "data": {
      "image/png": "[encoded data removed]",
      "text/plain": [
       "<Figure size 640x480 with 1 Axes>"
      ]
     },
     "metadata": {},
     "output_type": "display_data"
    }
   ],
   "source": [
    "from astropy.io import fits\n",
    "from gammapy.maps import Map\n",
    "\n",
    "with fits.open(\"joint-crab/exclusion/exclusion_mask_crab.fits.gz\") as hdul:    \n",
    "    exclusion_map=Map.from_hdulist(hdul)\n",
    "    \n",
    "exclusion_map.plot()\n",
    "\n",
    "from astropy.coordinates import SkyCoord\n",
    "Crab_pos=SkyCoord.from_name(\"Crab Nebula\")\n",
    "\n",
    "plt.plot(Crab_pos.to_pixel(exclusion_map.geom.wcs)[0],\n",
    "         Crab_pos.to_pixel(exclusion_map.geom.wcs)[1],\n",
    "         \"X\",label=\"Crab\")\n",
    "plt.legend();"
   ]
  },
  {
   "cell_type": "markdown",
   "metadata": {},
   "source": [
    "## Running the first step of the analysis: the Data Reduction\n",
    "\n",
    "\n"
   ]
  },
  {
   "cell_type": "markdown",
   "metadata": {},
   "source": [
    "### Configuration of the analysis\n",
    "\n",
    "We first create an `~gammapy.analysis.Analysis` object from our\n",
    "configuration.\n",
    "\n",
    "\n"
   ]
  },
  {
   "cell_type": "code",
   "execution_count": 8,
   "metadata": {},
   "outputs": [
    {
     "name": "stderr",
     "output_type": "stream",
     "text": [
      "Setting logging config: {'level': 'INFO', 'filename': None, 'filemode': None, 'format': None, 'datefmt': None}\n"
     ]
    }
   ],
   "source": [
    "analysis = Analysis(config)"
   ]
  },
  {
   "cell_type": "markdown",
   "metadata": {},
   "source": [
    "### Observation selection\n",
    "\n",
    "We can directly select and load the observations from disk using\n",
    "`~gammapy.analysis.Analysis.get_observations()`:\n",
    "\n",
    "\n"
   ]
  },
  {
   "cell_type": "code",
   "execution_count": 9,
   "metadata": {},
   "outputs": [
    {
     "name": "stderr",
     "output_type": "stream",
     "text": [
      "Fetching observations.\n",
      "Observations selected: 4 out of 4.\n",
      "Number of selected observations: 4\n"
     ]
    }
   ],
   "source": [
    "analysis.get_observations()"
   ]
  },
  {
   "cell_type": "markdown",
   "metadata": {},
   "source": [
    "The observations are now available on the `Analysis` object. The\n",
    "selection corresponds to the following ids:\n",
    "\n",
    "\n"
   ]
  },
  {
   "cell_type": "code",
   "execution_count": 10,
   "metadata": {},
   "outputs": [
    {
     "name": "stdout",
     "output_type": "stream",
     "text": [
      "['23523', '23526', '23559', '23592']\n"
     ]
    }
   ],
   "source": [
    "print(analysis.observations.ids)"
   ]
  },
  {
   "cell_type": "markdown",
   "metadata": {},
   "source": [
    "To see how to explore observations, please refer to the following\n",
    "notebook: :doc:`/tutorials/data/cta` or :doc:`/tutorials/data/hess`\n",
    "\n",
    "\n"
   ]
  },
  {
   "cell_type": "markdown",
   "metadata": {},
   "source": [
    "### Running the Data Reduction and binning\n",
    "\n",
    "Now we proceed to the data reduction and binning of the data. \n",
    "In the config file we have chosen to do a 1D analysis, an energy axis and decided to stack the maps. We can\n",
    "run the reduction using `.get_datasets()`:\n",
    "\n",
    "Since we specified a 1D analysis, the data is not binned in spatial coordinates, only in energy!\n"
   ]
  },
  {
   "cell_type": "code",
   "execution_count": 11,
   "metadata": {},
   "outputs": [
    {
     "name": "stderr",
     "output_type": "stream",
     "text": [
      "Reducing spectrum datasets.\n",
      "Creating the background Maker.\n"
     ]
    }
   ],
   "source": [
    "analysis.get_datasets()"
   ]
  },
  {
   "cell_type": "markdown",
   "metadata": {},
   "source": [
    "### Results exploration\n",
    "\n",
    "As we have chosen to stack the data, one can print what contains the\n",
    "unique entry of the datasets:\n",
    "\n",
    "\n"
   ]
  },
  {
   "cell_type": "code",
   "execution_count": 12,
   "metadata": {},
   "outputs": [
    {
     "name": "stdout",
     "output_type": "stream",
     "text": [
      "SpectrumDatasetOnOff\n",
      "--------------------\n",
      "\n",
      "  Name                            : stacked \n",
      "\n",
      "  Total counts                    : 427 \n",
      "  Total background counts         : 25.86\n",
      "  Total excess counts             : 401.14\n",
      "\n",
      "  Predicted counts                : 43.14\n",
      "  Predicted background counts     : 43.14\n",
      "  Predicted excess counts         : nan\n",
      "\n",
      "  Exposure min                    : 2.90e+07 m2 s\n",
      "  Exposure max                    : 2.64e+09 m2 s\n",
      "\n",
      "  Number of total bins            : 20 \n",
      "  Number of fit bins              : 18 \n",
      "\n",
      "  Fit statistic type              : wstat\n",
      "  Fit statistic value (-2 log(L)) : 1396.10\n",
      "\n",
      "  Number of models                : 0 \n",
      "  Number of parameters            : 0\n",
      "  Number of free parameters       : 0\n",
      "\n",
      "  Total counts_off                : 581 \n",
      "  Acceptance                      : 20 \n",
      "  Acceptance off                  : 495 \n",
      "\n"
     ]
    }
   ],
   "source": [
    "print(analysis.datasets[0])"
   ]
  },
  {
   "cell_type": "markdown",
   "metadata": {},
   "source": [
    "As you can see the dataset uses WStat (the mean signal of the background is considered as a nuisance parameter in the likelihood) with the estimation of the background using the Reflected Background method during the data reduction, but no source model has been set yet.\n",
    "\n",
    "The counts, exposure and background, etc are directly available on the\n",
    "dataset and can be printed:\n",
    "\n",
    "\n"
   ]
  },
  {
   "cell_type": "code",
   "execution_count": 13,
   "metadata": {},
   "outputs": [
    {
     "name": "stdout",
     "output_type": "stream",
     "text": [
      "Tobs=1.8 h Excess=401.1 Significance=37.04\n"
     ]
    }
   ],
   "source": [
    "info_table = analysis.datasets.info_table()\n",
    "info_table\n",
    "\n",
    "print(\n",
    "    f\"Tobs={info_table['livetime'].to('h')[0]:.1f} Excess={info_table['excess'].value[0]:.1f} \\\n",
    "Significance={info_table['sqrt_ts'][0]:.2f}\"\n",
    ")"
   ]
  },
  {
   "cell_type": "markdown",
   "metadata": {},
   "source": [
    "## Model fitting\n",
    "\n",
    "\n"
   ]
  },
  {
   "cell_type": "markdown",
   "metadata": {},
   "source": [
    "### Creation of the model\n",
    "\n",
    "First, let’s create a model to be adjusted. As we are performing a 1D\n",
    "Analysis, only a spectral model is needed within the `SkyModel`\n",
    "object. Here is a pre-defined YAML configuration file created for this\n",
    "1D analysis:\n",
    "\n",
    "\n"
   ]
  },
  {
   "cell_type": "code",
   "execution_count": 14,
   "metadata": {},
   "outputs": [
    {
     "name": "stdout",
     "output_type": "stream",
     "text": [
      "Models\n",
      "\n",
      "Component 0: SkyModel\n",
      "\n",
      "  Name                      : crab\n",
      "  Datasets names            : None\n",
      "  Spectral model type       : PowerLawSpectralModel\n",
      "  Spatial  model type       : \n",
      "  Temporal model type       : \n",
      "  Parameters:\n",
      "    index                         :      2.600   +/-    0.00             \n",
      "    amplitude                     :   5.00e-11   +/- 0.0e+00 1 / (cm2 s TeV)\n",
      "    reference             (frozen):      1.000       TeV         \n",
      "\n",
      "\n"
     ]
    }
   ],
   "source": [
    "model_str = \"\"\"\n",
    "components:\n",
    "- name: crab\n",
    "  type: SkyModel\n",
    "  spectral:\n",
    "    type: PowerLawSpectralModel\n",
    "    parameters:\n",
    "      - name: index\n",
    "        frozen: false\n",
    "        scale: 1.0\n",
    "        unit: ''\n",
    "        value: 2.6\n",
    "      - name: amplitude\n",
    "        frozen: false\n",
    "        scale: 1.0\n",
    "        unit: cm-2 s-1 TeV-1\n",
    "        value: 5.0e-11\n",
    "      - name: reference\n",
    "        frozen: true\n",
    "        scale: 1.0\n",
    "        unit: TeV\n",
    "        value: 1.0\n",
    "\"\"\"\n",
    "model_1d = Models.from_yaml(model_str)\n",
    "print(model_1d)"
   ]
  },
  {
   "cell_type": "markdown",
   "metadata": {},
   "source": [
    "Now we set the model on the analysis object:\n",
    "\n",
    "\n"
   ]
  },
  {
   "cell_type": "code",
   "execution_count": 15,
   "metadata": {},
   "outputs": [
    {
     "name": "stderr",
     "output_type": "stream",
     "text": [
      "Reading model.\n",
      "Models\n",
      "\n",
      "Component 0: SkyModel\n",
      "\n",
      "  Name                      : crab\n",
      "  Datasets names            : None\n",
      "  Spectral model type       : PowerLawSpectralModel\n",
      "  Spatial  model type       : \n",
      "  Temporal model type       : \n",
      "  Parameters:\n",
      "    index                         :      2.600   +/-    0.00             \n",
      "    amplitude                     :   5.00e-11   +/- 0.0e+00 1 / (cm2 s TeV)\n",
      "    reference             (frozen):      1.000       TeV         \n",
      "\n",
      "\n"
     ]
    }
   ],
   "source": [
    "analysis.set_models(model_1d)"
   ]
  },
  {
   "cell_type": "markdown",
   "metadata": {},
   "source": [
    "### Setting fitting parameters\n",
    "\n",
    "`Analysis` can perform a few modeling and fitting tasks besides data\n",
    "reduction. Parameters have then to be passed to the configuration\n",
    "object.\n",
    "\n",
    "\n"
   ]
  },
  {
   "cell_type": "markdown",
   "metadata": {},
   "source": [
    "### Running the fit\n",
    "\n",
    "\n"
   ]
  },
  {
   "cell_type": "code",
   "execution_count": 16,
   "metadata": {},
   "outputs": [
    {
     "name": "stderr",
     "output_type": "stream",
     "text": [
      "Fitting datasets.\n",
      "OptimizeResult\n",
      "\n",
      "\tbackend    : minuit\n",
      "\tmethod     : migrad\n",
      "\tsuccess    : True\n",
      "\tmessage    : Optimization terminated successfully.\n",
      "\tnfev       : 37\n",
      "\ttotal stat : 10.29\n",
      "\n",
      "CovarianceResult\n",
      "\n",
      "\tbackend    : minuit\n",
      "\tmethod     : hesse\n",
      "\tsuccess    : True\n",
      "\tmessage    : Hesse terminated successfully.\n",
      "\n"
     ]
    }
   ],
   "source": [
    "analysis.run_fit()"
   ]
  },
  {
   "cell_type": "markdown",
   "metadata": {},
   "source": [
    "### Exploration of the fit results\n",
    "\n",
    "\n"
   ]
  },
  {
   "cell_type": "code",
   "execution_count": 17,
   "metadata": {},
   "outputs": [
    {
     "name": "stdout",
     "output_type": "stream",
     "text": [
      "OptimizeResult\n",
      "\n",
      "\tbackend    : minuit\n",
      "\tmethod     : migrad\n",
      "\tsuccess    : True\n",
      "\tmessage    : Optimization terminated successfully.\n",
      "\tnfev       : 37\n",
      "\ttotal stat : 10.29\n",
      "\n",
      "CovarianceResult\n",
      "\n",
      "\tbackend    : minuit\n",
      "\tmethod     : hesse\n",
      "\tsuccess    : True\n",
      "\tmessage    : Hesse terminated successfully.\n",
      "\n"
     ]
    },
    {
     "data": {
      "text/html": [
       "<div><i>Table length=3</i>\n",
       "<table id=\"table6087805440\" class=\"table-striped table-bordered table-condensed\">\n",
       "<thead><tr><th>model</th><th>type</th><th>name</th><th>value</th><th>unit</th><th>error</th><th>min</th><th>max</th><th>frozen</th><th>is_norm</th><th>link</th></tr></thead>\n",
       "<thead><tr><th>str4</th><th>str8</th><th>str9</th><th>float64</th><th>str14</th><th>float64</th><th>float64</th><th>float64</th><th>bool</th><th>bool</th><th>str1</th></tr></thead>\n",
       "<tr><td>crab</td><td>spectral</td><td>index</td><td>2.6768e+00</td><td></td><td>1.035e-01</td><td>nan</td><td>nan</td><td>False</td><td>False</td><td></td></tr>\n",
       "<tr><td>crab</td><td>spectral</td><td>amplitude</td><td>4.6795e-11</td><td>cm-2 s-1 TeV-1</td><td>4.679e-12</td><td>nan</td><td>nan</td><td>False</td><td>True</td><td></td></tr>\n",
       "<tr><td>crab</td><td>spectral</td><td>reference</td><td>1.0000e+00</td><td>TeV</td><td>0.000e+00</td><td>nan</td><td>nan</td><td>True</td><td>False</td><td></td></tr>\n",
       "</table></div>"
      ],
      "text/plain": [
       "<Table length=3>\n",
       "model   type      name     value         unit      ...   max   frozen is_norm link\n",
       " str4   str8      str9    float64       str14      ... float64  bool    bool  str1\n",
       "----- -------- --------- ---------- -------------- ... ------- ------ ------- ----\n",
       " crab spectral     index 2.6768e+00                ...     nan  False   False     \n",
       " crab spectral amplitude 4.6795e-11 cm-2 s-1 TeV-1 ...     nan  False    True     \n",
       " crab spectral reference 1.0000e+00            TeV ...     nan   True   False     "
      ]
     },
     "metadata": {},
     "output_type": "display_data"
    }
   ],
   "source": [
    "print(analysis.fit_result)\n",
    "\n",
    "display(model_1d.to_parameters_table())"
   ]
  },
  {
   "cell_type": "markdown",
   "metadata": {},
   "source": [
    "To check the fit is correct, we compute the excess spectrum with the\n",
    "predicted counts.\n",
    "\n",
    "\n"
   ]
  },
  {
   "cell_type": "code",
   "execution_count": 18,
   "metadata": {},
   "outputs": [
    {
     "data": {
      "image/png": "[encoded data removed]",
      "text/plain": [
       "<Figure size 800x700 with 2 Axes>"
      ]
     },
     "metadata": {},
     "output_type": "display_data"
    }
   ],
   "source": [
    "ax_spectrum, ax_residuals = analysis.datasets[0].plot_fit()\n",
    "ax_spectrum.set_ylim(0.1, 200)\n",
    "ax_spectrum.set_xlim(0.2, 60)\n",
    "ax_residuals.set_xlim(0.2, 60)\n",
    "ax_spectrum.set_ylabel(\"Counts\")\n",
    "analysis.datasets[0].plot_masks(ax=ax_spectrum);"
   ]
  },
  {
   "cell_type": "markdown",
   "metadata": {},
   "source": [
    "## Creation of the Flux points\n",
    "\n",
    "\n"
   ]
  },
  {
   "cell_type": "markdown",
   "metadata": {},
   "source": [
    "### Running the estimation\n",
    "\n",
    "\n"
   ]
  },
  {
   "cell_type": "code",
   "execution_count": 19,
   "metadata": {},
   "outputs": [
    {
     "name": "stderr",
     "output_type": "stream",
     "text": [
      "Calculating flux points.\n",
      "Reoptimize = False ignored for iminuit backend\n",
      "Reoptimize = False ignored for iminuit backend\n",
      "Reoptimize = False ignored for iminuit backend\n",
      "Reoptimize = False ignored for iminuit backend\n",
      "Reoptimize = False ignored for iminuit backend\n",
      "Reoptimize = False ignored for iminuit backend\n",
      "Reoptimize = False ignored for iminuit backend\n",
      "Reoptimize = False ignored for iminuit backend\n",
      "Reoptimize = False ignored for iminuit backend\n",
      "Reoptimize = False ignored for iminuit backend\n",
      "Reoptimize = False ignored for iminuit backend\n",
      "Reoptimize = False ignored for iminuit backend\n",
      "Reoptimize = False ignored for iminuit backend\n",
      "Reoptimize = False ignored for iminuit backend\n",
      "Reoptimize = False ignored for iminuit backend\n",
      "Reoptimize = False ignored for iminuit backend\n",
      "\n",
      "      e_ref                 dnde          ...      sqrt_ts      \n",
      "       TeV            1 / (cm2 s TeV)     ...                   \n",
      "------------------ ---------------------- ... ------------------\n",
      "1.1339665776330272  2.834644920257311e-11 ... 13.649801869758486\n",
      "1.7077149461898808 1.1933885559386584e-11 ...  18.22970235260035\n",
      "  2.57176039837752 4.3246714869615854e-12 ...  15.66788365524457\n",
      " 3.872983346207416 1.0021848813805135e-12 ...  9.096816080825034\n",
      " 5.832580674880615  4.655417094007892e-13 ...  9.412238418297015\n",
      " 7.929067195782284 1.5268674342218694e-13 ... 3.9991181357486663\n",
      "10.779123358892521  9.692057437381746e-14 ...  5.744885924019484\n",
      "16.232991721174255 1.5230023508921424e-14 ...  2.450112821204946\n"
     ]
    },
    {
     "data": {
      "text/html": [
       "<div><i>Table length=8</i>\n",
       "<table id=\"table6086700672\" class=\"table-striped table-bordered table-condensed\">\n",
       "<thead><tr><th>e_ref</th><th>e_min</th><th>e_max</th><th>dnde</th><th>dnde_err</th><th>dnde_errp</th><th>dnde_errn</th><th>dnde_ul</th><th>ts</th><th>sqrt_ts</th><th>npred</th><th>npred_excess</th><th>stat</th><th>is_ul</th><th>counts</th><th>success</th><th>norm_scan</th><th>stat_scan</th></tr></thead>\n",
       "<thead><tr><th>TeV</th><th>TeV</th><th>TeV</th><th>1 / (cm2 s TeV)</th><th>1 / (cm2 s TeV)</th><th>1 / (cm2 s TeV)</th><th>1 / (cm2 s TeV)</th><th>1 / (cm2 s TeV)</th><th></th><th></th><th></th><th></th><th></th><th></th><th></th><th></th><th></th><th></th></tr></thead>\n",
       "<thead><tr><th>float64</th><th>float64</th><th>float64</th><th>float64</th><th>float64</th><th>float64</th><th>float64</th><th>float64</th><th>float64</th><th>float64</th><th>float64[1]</th><th>float32[1]</th><th>float64</th><th>bool</th><th>float64[1]</th><th>bool</th><th>float64[11]</th><th>float64[11]</th></tr></thead>\n",
       "<tr><td>1.134</td><td>0.924</td><td>1.392</td><td>2.835e-11</td><td>4.025e-12</td><td>4.206e-12</td><td>3.848e-12</td><td>3.713e-11</td><td>186.317</td><td>13.650</td><td>55.99956565687912</td><td>52.7632</td><td>0.000</td><td>False</td><td>56.0</td><td>True</td><td>0.200 .. 5.000</td><td>61.061 .. 323.310</td></tr>\n",
       "<tr><td>1.708</td><td>1.392</td><td>2.096</td><td>1.193e-11</td><td>1.255e-12</td><td>1.297e-12</td><td>1.215e-12</td><td>1.461e-11</td><td>332.322</td><td>18.230</td><td>102.04656908663597</td><td>96.13059</td><td>0.718</td><td>False</td><td>102.0</td><td>True</td><td>0.200 .. 5.000</td><td>137.686 .. 402.694</td></tr>\n",
       "<tr><td>2.572</td><td>2.096</td><td>3.156</td><td>4.325e-12</td><td>5.410e-13</td><td>5.626e-13</td><td>5.199e-13</td><td>5.494e-12</td><td>245.483</td><td>15.668</td><td>70.98310585226739</td><td>67.42658</td><td>0.329</td><td>False</td><td>71.0</td><td>True</td><td>0.200 .. 5.000</td><td>105.216 .. 245.371</td></tr>\n",
       "<tr><td>3.873</td><td>3.156</td><td>4.753</td><td>1.002e-12</td><td>1.965e-13</td><td>2.084e-13</td><td>1.850e-13</td><td>1.443e-12</td><td>82.752</td><td>9.097</td><td>30.96858887289666</td><td>28.465975</td><td>1.663</td><td>False</td><td>31.0</td><td>True</td><td>0.200 .. 5.000</td><td>30.617 .. 190.044</td></tr>\n",
       "<tr><td>5.833</td><td>4.753</td><td>7.158</td><td>4.655e-13</td><td>1.001e-13</td><td>1.070e-13</td><td>9.338e-14</td><td>6.937e-13</td><td>88.590</td><td>9.412</td><td>24.13312013593272</td><td>22.806488</td><td>0.725</td><td>False</td><td>24.0</td><td>True</td><td>0.200 .. 5.000</td><td>35.669 .. 89.296</td></tr>\n",
       "<tr><td>7.929</td><td>7.158</td><td>8.784</td><td>1.527e-13</td><td>6.872e-14</td><td>7.833e-14</td><td>5.976e-14</td><td>3.297e-13</td><td>15.993</td><td>3.999</td><td>5.999944827284139</td><td>5.452217</td><td>0.000</td><td>False</td><td>6.0</td><td>True</td><td>0.200 .. 5.000</td><td>5.680 .. 33.974</td></tr>\n",
       "<tr><td>10.779</td><td>8.784</td><td>13.228</td><td>9.692e-14</td><td>3.167e-14</td><td>3.499e-14</td><td>2.864e-14</td><td>1.739e-13</td><td>33.004</td><td>5.745</td><td>10.956513049909981</td><td>10.141874</td><td>0.117</td><td>False</td><td>11.0</td><td>True</td><td>0.200 .. 5.000</td><td>15.247 .. 34.090</td></tr>\n",
       "<tr><td>16.233</td><td>13.228</td><td>19.921</td><td>1.523e-14</td><td>1.034e-14</td><td>1.239e-14</td><td>8.463e-15</td><td>4.443e-14</td><td>6.003</td><td>2.450</td><td>2.954099038455318</td><td>2.5607193</td><td>0.608</td><td>False</td><td>3.0</td><td>True</td><td>0.200 .. 5.000</td><td>2.084 .. 28.509</td></tr>\n",
       "</table></div>"
      ],
      "text/plain": [
       "<Table length=8>\n",
       " e_ref   e_min   e_max  ... success   norm_scan        stat_scan     \n",
       "  TeV     TeV     TeV   ...                                          \n",
       "float64 float64 float64 ...   bool   float64[11]      float64[11]    \n",
       "------- ------- ------- ... ------- -------------- ------------------\n",
       "  1.134   0.924   1.392 ...    True 0.200 .. 5.000  61.061 .. 323.310\n",
       "  1.708   1.392   2.096 ...    True 0.200 .. 5.000 137.686 .. 402.694\n",
       "  2.572   2.096   3.156 ...    True 0.200 .. 5.000 105.216 .. 245.371\n",
       "  3.873   3.156   4.753 ...    True 0.200 .. 5.000  30.617 .. 190.044\n",
       "  5.833   4.753   7.158 ...    True 0.200 .. 5.000   35.669 .. 89.296\n",
       "  7.929   7.158   8.784 ...    True 0.200 .. 5.000    5.680 .. 33.974\n",
       " 10.779   8.784  13.228 ...    True 0.200 .. 5.000   15.247 .. 34.090\n",
       " 16.233  13.228  19.921 ...    True 0.200 .. 5.000    2.084 .. 28.509"
      ]
     },
     "metadata": {},
     "output_type": "display_data"
    }
   ],
   "source": [
    "analysis.get_flux_points()\n",
    "\n",
    "crab_fp = analysis.flux_points.data\n",
    "crab_fp_table = crab_fp.to_table(sed_type=\"dnde\", formatted=True)\n",
    "display(crab_fp_table)"
   ]
  },
  {
   "cell_type": "markdown",
   "metadata": {},
   "source": [
    "Let’s plot the flux points with their likelihood profile\n",
    "\n",
    "\n"
   ]
  },
  {
   "cell_type": "code",
   "execution_count": 20,
   "metadata": {},
   "outputs": [
    {
     "data": {
      "image/png": "[encoded data removed]",
      "text/plain": [
       "<Figure size 640x480 with 2 Axes>"
      ]
     },
     "metadata": {},
     "output_type": "display_data"
    }
   ],
   "source": [
    "fig, ax_sed = plt.subplots()\n",
    "crab_fp.plot(ax=ax_sed, sed_type=\"e2dnde\", color=\"darkorange\")\n",
    "ax_sed.set_ylim(1.0e-12, 2.0e-10)\n",
    "ax_sed.set_xlim(0.5, 40)\n",
    "crab_fp.plot_ts_profiles(ax=ax_sed, sed_type=\"e2dnde\")\n",
    "ax_sed.set_ylabel(fr\"E$^2 \\times$dN/dE [erg s$^{{-1}}$ cm$^{{-2}}$]\");"
   ]
  },
  {
   "cell_type": "markdown",
   "metadata": {},
   "source": [
    "## Plotting the final results of the 1D Analysis\n",
    "\n",
    "\n"
   ]
  },
  {
   "cell_type": "markdown",
   "metadata": {},
   "source": [
    "We can plot of the spectral fit with its error band overlaid with the\n",
    "flux points:\n",
    "\n",
    "\n"
   ]
  },
  {
   "cell_type": "code",
   "execution_count": 21,
   "metadata": {},
   "outputs": [
    {
     "data": {
      "image/png": "[encoded data removed]",
      "text/plain": [
       "<Figure size 900x700 with 2 Axes>"
      ]
     },
     "metadata": {},
     "output_type": "display_data"
    }
   ],
   "source": [
    "ax_sed, ax_residuals = analysis.flux_points.plot_fit()\n",
    "ax_sed.set_ylim(1.0e-12, 1.0e-9)\n",
    "ax_sed.set_xlim(0.5, 40)\n",
    "ax_sed.set_ylabel(fr\"E$^2 \\times$dN/dE [erg s$^{{-1}}$ cm$^{{-2}}$]\")\n",
    "plt.show()"
   ]
  },
  {
   "cell_type": "markdown",
   "metadata": {},
   "source": [
    "## What’s next?\n",
    "\n",
    "Do the 3D analysis of the Crab data!\n",
    "\n",
    "\n"
   ]
  }
 ],
 "metadata": {
  "kernelspec": {
   "display_name": "Python 3 (ipykernel)",
   "language": "python",
   "name": "python3"
  },
  "language_info": {
   "codemirror_mode": {
    "name": "ipython",
    "version": 3
   },
   "file_extension": ".py",
   "mimetype": "text/x-python",
   "name": "python",
   "nbconvert_exporter": "python",
   "pygments_lexer": "ipython3",
   "version": "3.9.16"
  }
 },
 "nbformat": 4,
 "nbformat_minor": 1
}
